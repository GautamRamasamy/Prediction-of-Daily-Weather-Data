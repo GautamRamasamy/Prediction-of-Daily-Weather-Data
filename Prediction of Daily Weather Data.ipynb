{
 "cells": [
  {
   "cell_type": "code",
   "execution_count": 1,
   "metadata": {},
   "outputs": [],
   "source": [
    "import pandas as pd\n",
    "import numpy as np\n",
    "import matplotlib.pyplot as plt\n",
    "\n",
    "%matplotlib inline"
   ]
  },
  {
   "cell_type": "code",
   "execution_count": 2,
   "metadata": {},
   "outputs": [],
   "source": [
    "from sklearn.metrics import accuracy_score\n",
    "from sklearn.model_selection import train_test_split\n",
    "from sklearn.model_selection import cross_val_score\n",
    "from sklearn.tree import DecisionTreeClassifier"
   ]
  },
  {
   "cell_type": "code",
   "execution_count": 3,
   "metadata": {},
   "outputs": [],
   "source": [
    "data = pd.read_csv('daily_weather.csv')"
   ]
  },
  {
   "cell_type": "markdown",
   "metadata": {},
   "source": [
    "# Daily Weather Data Description (60 points)"
   ]
  },
  {
   "cell_type": "markdown",
   "metadata": {},
   "source": [
    "The file **daily_weather.csv** is a comma-separated file that contains weather data. This data comes from a weather station located in San Diego, California. The weather station is equipped with sensors that capture weather-related measurements such as air temperature, air pressure, and relative humidity. Data was collected for a period of three years, from September 2011 to September 2014, to ensure that sufficient data for different seasons and weather conditions is captured.\n",
    "\n",
    "Let's now check all the columns in the data."
   ]
  },
  {
   "cell_type": "markdown",
   "metadata": {},
   "source": [
    "\n",
    "Each row in daily_weather.csv captures weather data for a separate day. \n",
    "\n",
    "Sensor measurements from the weather station were captured at one-minute intervals. These measurements were then processed to generate values to describe daily weather. Since this dataset was created to classify low-humidity days vs. non-low-humidity days (that is, days with normal or high humidity), the variables included are weather measurements in the morning, with one measurement, namely relatively humidity, in the afternoon. The idea is to use the morning weather values to predict whether the day will be low-humidity or not based on the afternoon measurement of relative humidity.\n",
    "Each row, or sample, consists of the following variables:\n",
    "\n",
    "number: unique number for each row\n",
    "\n",
    "air_pressure_9am: air pressure averaged over a period from 8:55am to 9:04am (Unit: hectopascals)\n",
    "\n",
    "air_temp_9am: air temperature averaged over a period from 8:55am to 9:04am (Unit: degrees Fahrenheit)\n",
    "\n",
    "air_wind_direction_9am: wind direction averaged over a period from 8:55am to 9:04am (Unit: degrees, with 0 means coming from the North, and increasing clockwise)\n",
    "\n",
    "air_wind_speed_9am: wind speed averaged over a period from 8:55am to 9:04am (Unit: miles per hour)\n",
    "\n",
    "max_wind_direction_9am: wind gust direction averaged over a period from 8:55am to 9:10am (Unit: degrees, with 0 being North and increasing clockwise)\n",
    "\n",
    "max_wind_speed_9am: wind gust speed averaged over a period from 8:55am to 9:04am (Unit: miles per hour)\n",
    "\n",
    "rain_accumulation_9am: amount of rain accumulated in the 24 hours prior to 9am (Unit: millimeters)\n",
    "\n",
    "rain_duration_9am: amount of time rain was recorded in the 24 hours prior to 9am (Unit: seconds)\n",
    "\n",
    "relative_humidity_9am: relative humidity averaged over a period from 8:55am to 9:04am (Unit: percent)\n",
    "\n",
    "relative_humidity_3pm: relative humidity averaged over a period from 2:55pm to 3:04pm (*Unit: percent *)"
   ]
  },
  {
   "cell_type": "code",
   "execution_count": 5,
   "metadata": {},
   "outputs": [
    {
     "data": {
      "text/plain": [
       "Index(['number', 'air_pressure_9am', 'air_temp_9am', 'avg_wind_direction_9am',\n",
       "       'avg_wind_speed_9am', 'max_wind_direction_9am', 'max_wind_speed_9am',\n",
       "       'rain_accumulation_9am', 'rain_duration_9am', 'relative_humidity_9am',\n",
       "       'relative_humidity_3pm'],\n",
       "      dtype='object')"
      ]
     },
     "execution_count": 5,
     "metadata": {},
     "output_type": "execute_result"
    }
   ],
   "source": [
    "data.columns"
   ]
  },
  {
   "cell_type": "code",
   "execution_count": 6,
   "metadata": {},
   "outputs": [
    {
     "data": {
      "text/html": [
       "<div>\n",
       "<style scoped>\n",
       "    .dataframe tbody tr th:only-of-type {\n",
       "        vertical-align: middle;\n",
       "    }\n",
       "\n",
       "    .dataframe tbody tr th {\n",
       "        vertical-align: top;\n",
       "    }\n",
       "\n",
       "    .dataframe thead th {\n",
       "        text-align: right;\n",
       "    }\n",
       "</style>\n",
       "<table border=\"1\" class=\"dataframe\">\n",
       "  <thead>\n",
       "    <tr style=\"text-align: right;\">\n",
       "      <th></th>\n",
       "      <th>number</th>\n",
       "      <th>air_pressure_9am</th>\n",
       "      <th>air_temp_9am</th>\n",
       "      <th>avg_wind_direction_9am</th>\n",
       "      <th>avg_wind_speed_9am</th>\n",
       "      <th>max_wind_direction_9am</th>\n",
       "      <th>max_wind_speed_9am</th>\n",
       "      <th>rain_accumulation_9am</th>\n",
       "      <th>rain_duration_9am</th>\n",
       "      <th>relative_humidity_9am</th>\n",
       "      <th>relative_humidity_3pm</th>\n",
       "    </tr>\n",
       "  </thead>\n",
       "  <tbody>\n",
       "    <tr>\n",
       "      <td>0</td>\n",
       "      <td>0</td>\n",
       "      <td>918.060000</td>\n",
       "      <td>74.822000</td>\n",
       "      <td>271.100000</td>\n",
       "      <td>2.080354</td>\n",
       "      <td>295.400000</td>\n",
       "      <td>2.863283</td>\n",
       "      <td>0.0</td>\n",
       "      <td>0.0</td>\n",
       "      <td>42.420000</td>\n",
       "      <td>36.160000</td>\n",
       "    </tr>\n",
       "    <tr>\n",
       "      <td>1</td>\n",
       "      <td>1</td>\n",
       "      <td>917.347688</td>\n",
       "      <td>71.403843</td>\n",
       "      <td>101.935179</td>\n",
       "      <td>2.443009</td>\n",
       "      <td>140.471548</td>\n",
       "      <td>3.533324</td>\n",
       "      <td>0.0</td>\n",
       "      <td>0.0</td>\n",
       "      <td>24.328697</td>\n",
       "      <td>19.426597</td>\n",
       "    </tr>\n",
       "    <tr>\n",
       "      <td>2</td>\n",
       "      <td>2</td>\n",
       "      <td>923.040000</td>\n",
       "      <td>60.638000</td>\n",
       "      <td>51.000000</td>\n",
       "      <td>17.067852</td>\n",
       "      <td>63.700000</td>\n",
       "      <td>22.100967</td>\n",
       "      <td>0.0</td>\n",
       "      <td>20.0</td>\n",
       "      <td>8.900000</td>\n",
       "      <td>14.460000</td>\n",
       "    </tr>\n",
       "    <tr>\n",
       "      <td>3</td>\n",
       "      <td>3</td>\n",
       "      <td>920.502751</td>\n",
       "      <td>70.138895</td>\n",
       "      <td>198.832133</td>\n",
       "      <td>4.337363</td>\n",
       "      <td>211.203341</td>\n",
       "      <td>5.190045</td>\n",
       "      <td>0.0</td>\n",
       "      <td>0.0</td>\n",
       "      <td>12.189102</td>\n",
       "      <td>12.742547</td>\n",
       "    </tr>\n",
       "    <tr>\n",
       "      <td>4</td>\n",
       "      <td>4</td>\n",
       "      <td>921.160000</td>\n",
       "      <td>44.294000</td>\n",
       "      <td>277.800000</td>\n",
       "      <td>1.856660</td>\n",
       "      <td>136.500000</td>\n",
       "      <td>2.863283</td>\n",
       "      <td>8.9</td>\n",
       "      <td>14730.0</td>\n",
       "      <td>92.410000</td>\n",
       "      <td>76.740000</td>\n",
       "    </tr>\n",
       "  </tbody>\n",
       "</table>\n",
       "</div>"
      ],
      "text/plain": [
       "   number  air_pressure_9am  air_temp_9am  avg_wind_direction_9am  \\\n",
       "0       0        918.060000     74.822000              271.100000   \n",
       "1       1        917.347688     71.403843              101.935179   \n",
       "2       2        923.040000     60.638000               51.000000   \n",
       "3       3        920.502751     70.138895              198.832133   \n",
       "4       4        921.160000     44.294000              277.800000   \n",
       "\n",
       "   avg_wind_speed_9am  max_wind_direction_9am  max_wind_speed_9am  \\\n",
       "0            2.080354              295.400000            2.863283   \n",
       "1            2.443009              140.471548            3.533324   \n",
       "2           17.067852               63.700000           22.100967   \n",
       "3            4.337363              211.203341            5.190045   \n",
       "4            1.856660              136.500000            2.863283   \n",
       "\n",
       "   rain_accumulation_9am  rain_duration_9am  relative_humidity_9am  \\\n",
       "0                    0.0                0.0              42.420000   \n",
       "1                    0.0                0.0              24.328697   \n",
       "2                    0.0               20.0               8.900000   \n",
       "3                    0.0                0.0              12.189102   \n",
       "4                    8.9            14730.0              92.410000   \n",
       "\n",
       "   relative_humidity_3pm  \n",
       "0              36.160000  \n",
       "1              19.426597  \n",
       "2              14.460000  \n",
       "3              12.742547  \n",
       "4              76.740000  "
      ]
     },
     "execution_count": 6,
     "metadata": {},
     "output_type": "execute_result"
    }
   ],
   "source": [
    "data.head()"
   ]
  },
  {
   "cell_type": "code",
   "execution_count": 7,
   "metadata": {},
   "outputs": [],
   "source": [
    "del data['number']\n",
    "data = data.dropna()"
   ]
  },
  {
   "cell_type": "code",
   "execution_count": 8,
   "metadata": {},
   "outputs": [],
   "source": [
    "# Binarize the relative_humidity_3pm to 0 or 1.\n",
    "\n",
    "clean_data = data.copy()\n",
    "clean_data['high_humidity_label'] = (clean_data['relative_humidity_3pm']>24.99)*1"
   ]
  },
  {
   "cell_type": "code",
   "execution_count": 9,
   "metadata": {},
   "outputs": [
    {
     "data": {
      "text/plain": [
       "(1064, 1)"
      ]
     },
     "execution_count": 9,
     "metadata": {},
     "output_type": "execute_result"
    }
   ],
   "source": [
    "y = clean_data[['high_humidity_label']]\n",
    "type(y)\n",
    "y.shape"
   ]
  },
  {
   "cell_type": "code",
   "execution_count": 10,
   "metadata": {},
   "outputs": [],
   "source": [
    "# Use 9am Sensor Signals as Features to Predict Humidity at 3pm\n",
    "\n",
    "morning_features = ['air_pressure_9am', 'air_temp_9am', 'avg_wind_direction_9am',\n",
    "       'avg_wind_speed_9am', 'max_wind_direction_9am', 'max_wind_speed_9am',\n",
    "       'rain_accumulation_9am', 'rain_duration_9am']"
   ]
  },
  {
   "cell_type": "code",
   "execution_count": 11,
   "metadata": {},
   "outputs": [],
   "source": [
    "X = clean_data[morning_features]"
   ]
  },
  {
   "cell_type": "code",
   "execution_count": 12,
   "metadata": {},
   "outputs": [
    {
     "data": {
      "text/plain": [
       "(1064, 8)"
      ]
     },
     "execution_count": 12,
     "metadata": {},
     "output_type": "execute_result"
    }
   ],
   "source": [
    "X.shape"
   ]
  },
  {
   "cell_type": "code",
   "execution_count": 13,
   "metadata": {},
   "outputs": [],
   "source": [
    "X_train, X_test, y_train, y_test=train_test_split(X, y, random_state=23)"
   ]
  },
  {
   "cell_type": "markdown",
   "metadata": {},
   "source": [
    "**Complete the following tasks**:\n",
    "\n",
    "- Train a logistic regression model (10 points)\n",
    "- Train a SVM model by tunning both C and gamma, report the best parameters (15 points)\n",
    "- Train a decision tree model by tuning the proper parameters, report the best parameters (15 points)\n",
    "- Use the same parameters to train a random forest model (10 points)\n",
    "- Compare all the above models' performance (10 points)"
   ]
  },
  {
   "cell_type": "code",
   "execution_count": 14,
   "metadata": {},
   "outputs": [
    {
     "name": "stdout",
     "output_type": "stream",
     "text": [
      "Logistic Regression:\n",
      "Cross validation scores: [0.69172932 0.68796992 0.7593985 ]\n",
      "lr.coef_: [[ 4.14333008e-03 -6.41216799e-02 -3.67783043e-04  9.77557212e-01\n",
      "   8.79378752e-03 -9.13554820e-01  4.67579874e-02  3.84506288e-04]]\n",
      "lr.intercept_: [0.06572658]\n",
      "Training score: 0.72\n",
      "Test score 0.71\n",
      "Accuracy Score: 0.7142857142857143\n",
      "AUC for logistic regression: 0.801\n"
     ]
    },
    {
     "name": "stderr",
     "output_type": "stream",
     "text": [
      "/Library/Frameworks/Python.framework/Versions/3.7/lib/python3.7/site-packages/sklearn/linear_model/logistic.py:432: FutureWarning: Default solver will be changed to 'lbfgs' in 0.22. Specify a solver to silence this warning.\n",
      "  FutureWarning)\n",
      "/Library/Frameworks/Python.framework/Versions/3.7/lib/python3.7/site-packages/sklearn/utils/validation.py:724: DataConversionWarning: A column-vector y was passed when a 1d array was expected. Please change the shape of y to (n_samples, ), for example using ravel().\n",
      "  y = column_or_1d(y, warn=True)\n",
      "/Library/Frameworks/Python.framework/Versions/3.7/lib/python3.7/site-packages/sklearn/linear_model/logistic.py:432: FutureWarning: Default solver will be changed to 'lbfgs' in 0.22. Specify a solver to silence this warning.\n",
      "  FutureWarning)\n",
      "/Library/Frameworks/Python.framework/Versions/3.7/lib/python3.7/site-packages/sklearn/utils/validation.py:724: DataConversionWarning: A column-vector y was passed when a 1d array was expected. Please change the shape of y to (n_samples, ), for example using ravel().\n",
      "  y = column_or_1d(y, warn=True)\n",
      "/Library/Frameworks/Python.framework/Versions/3.7/lib/python3.7/site-packages/sklearn/linear_model/logistic.py:432: FutureWarning: Default solver will be changed to 'lbfgs' in 0.22. Specify a solver to silence this warning.\n",
      "  FutureWarning)\n",
      "/Library/Frameworks/Python.framework/Versions/3.7/lib/python3.7/site-packages/sklearn/utils/validation.py:724: DataConversionWarning: A column-vector y was passed when a 1d array was expected. Please change the shape of y to (n_samples, ), for example using ravel().\n",
      "  y = column_or_1d(y, warn=True)\n",
      "/Library/Frameworks/Python.framework/Versions/3.7/lib/python3.7/site-packages/sklearn/linear_model/logistic.py:432: FutureWarning: Default solver will be changed to 'lbfgs' in 0.22. Specify a solver to silence this warning.\n",
      "  FutureWarning)\n",
      "/Library/Frameworks/Python.framework/Versions/3.7/lib/python3.7/site-packages/sklearn/utils/validation.py:724: DataConversionWarning: A column-vector y was passed when a 1d array was expected. Please change the shape of y to (n_samples, ), for example using ravel().\n",
      "  y = column_or_1d(y, warn=True)\n",
      "/Library/Frameworks/Python.framework/Versions/3.7/lib/python3.7/site-packages/sklearn/utils/validation.py:724: DataConversionWarning: A column-vector y was passed when a 1d array was expected. Please change the shape of y to (n_samples, ), for example using ravel().\n",
      "  y = column_or_1d(y, warn=True)\n",
      "/Library/Frameworks/Python.framework/Versions/3.7/lib/python3.7/site-packages/sklearn/svm/base.py:929: ConvergenceWarning: Liblinear failed to converge, increase the number of iterations.\n",
      "  \"the number of iterations.\", ConvergenceWarning)\n"
     ]
    },
    {
     "name": "stdout",
     "output_type": "stream",
     "text": [
      "\n",
      "Linear SVM:\n",
      "Training score:  0.7043507211417659\n",
      "Test score:  0.730130855945165\n",
      "Accuracy Score: 0.46616541353383456\n",
      "AUC for Linear SVM: 0.784\n",
      "Best Parameters: {'C': 1}\n"
     ]
    },
    {
     "name": "stderr",
     "output_type": "stream",
     "text": [
      "/Library/Frameworks/Python.framework/Versions/3.7/lib/python3.7/site-packages/sklearn/utils/validation.py:724: DataConversionWarning: A column-vector y was passed when a 1d array was expected. Please change the shape of y to (n_samples, ), for example using ravel().\n",
      "  y = column_or_1d(y, warn=True)\n"
     ]
    },
    {
     "name": "stdout",
     "output_type": "stream",
     "text": [
      "\n",
      "SVM With Radial Kernel:\n",
      "Training score:  0.9919656766671692\n",
      "Test score:  0.891803092958704\n",
      "Accuracy Score: 0.8458646616541353\n",
      "AUC for Radial SVM: 0.916\n",
      "Best Parameters: {'C': 1, 'gamma': 0.01}\n",
      "\n",
      "Decision Tree:\n",
      "Training score:  1.0\n",
      "Test score:  0.7857142857142857\n",
      "Accuracy Score: 0.7857142857142857\n",
      "AUC for Decision Tree: 0.785\n",
      "\n",
      "Decision Tree with Best Parameters:\n",
      "Training score:  0.7694235588972431\n",
      "Test score:  0.7481203007518797\n",
      "Accuracy Score: 0.7481203007518797\n",
      "AUC for Decision Tree: 0.800\n",
      "Best Parameters: {'max_depth': 2, 'max_leaf_nodes': 4, 'min_samples_split': 2}\n",
      "\n",
      "Random Forest Model:\n",
      "Training score:  0.7794486215538847\n",
      "Test score:  0.7631578947368421\n",
      "Accuracy Score: 0.7631578947368421\n",
      "AUC for Random Forest: 0.841\n"
     ]
    },
    {
     "name": "stderr",
     "output_type": "stream",
     "text": [
      "/Library/Frameworks/Python.framework/Versions/3.7/lib/python3.7/site-packages/sklearn/ensemble/forest.py:245: FutureWarning: The default value of n_estimators will change from 10 in version 0.20 to 100 in 0.22.\n",
      "  \"10 in version 0.20 to 100 in 0.22.\", FutureWarning)\n",
      "/Library/Frameworks/Python.framework/Versions/3.7/lib/python3.7/site-packages/ipykernel_launcher.py:114: DataConversionWarning: A column-vector y was passed when a 1d array was expected. Please change the shape of y to (n_samples,), for example using ravel().\n"
     ]
    }
   ],
   "source": [
    "# YOUR CODES\n",
    "model_Scores = []\n",
    "from sklearn.linear_model import LogisticRegression\n",
    "from sklearn.svm import LinearSVC, SVC\n",
    "from sklearn.ensemble import RandomForestClassifier\n",
    "from sklearn.model_selection import train_test_split\n",
    "from sklearn.model_selection import GridSearchCV\n",
    "from sklearn.metrics import roc_auc_score\n",
    "\n",
    "# Logistic Regression\n",
    "lreg = LogisticRegression()\n",
    "# Train a Logistic Regression model\n",
    "lreg.fit(X_train, y_train)\n",
    "y_pred = lreg.predict(X_test)\n",
    "# Print the coefficients and model performance\n",
    "cvscores = cross_val_score(lreg, X_train, y_train, cv=3)\n",
    "print('Logistic Regression:')\n",
    "print(\"Cross validation scores: {}\".format(cvscores))\n",
    "print(\"lr.coef_:\", lreg.coef_)\n",
    "print(\"lr.intercept_:\", lreg.intercept_)\n",
    "print(\"Training score: {:.2f}\".format(lreg.score(X_train, y_train)))\n",
    "test_score = lreg.score(X_test,y_test) \n",
    "print(\"Test score {:.2f}\".format(test_score))\n",
    "print(\"Accuracy Score:\", accuracy_score(y_test, y_pred))\n",
    "lr_auc = roc_auc_score(y_test, lreg.predict_proba(X_test)[:,1])\n",
    "print(\"AUC for logistic regression: {:.3f}\".format(lr_auc))\n",
    "## Appending the results \n",
    "model_Scores.append({'Model Type' : 'Classification',\n",
    "                    'Model Name' : 'Logistic Regression',\n",
    "                    'Parameters' : '-',\n",
    "                    'Training_score': lreg.score(X_train, y_train),\n",
    "                    'Test Score': test_score,\n",
    "                    'AUC':lr_auc})\n",
    "\n",
    "# LinearSVM\n",
    "linear_svc = LinearSVC()\n",
    "# Define a list of parameters\n",
    "params_svc = {'C': [0.001, 0.01, 0.1, 1, 10, 100]}\n",
    "grid_svc = GridSearchCV(linear_svc, params_svc, cv=5, n_jobs=2,scoring = 'roc_auc', return_train_score=True)\n",
    "grid_svc.fit(X_train, y_train)\n",
    "y_pred = grid_svc.predict(X_test)\n",
    "print('\\nLinear SVM:')\n",
    "print('Training score: ', grid_svc.score(X_train, y_train))\n",
    "print('Test score: ', grid_svc.score(X_test, y_test))\n",
    "print(\"Accuracy Score:\", accuracy_score(y_test, y_pred))\n",
    "linearsvc_auc = grid_svc.best_score_\n",
    "print(\"AUC for Linear SVM: {:.3f}\".format(linearsvc_auc))\n",
    "print('Best Parameters:',grid_svc.best_params_)\n",
    "## Appending the results \n",
    "model_Scores.append({'Model Type' : 'Classification',\n",
    "                    'Model Name' : 'Linear SVM',\n",
    "                    'Parameters' : grid_svc.best_params_,\n",
    "                    'Training_score': grid_svc.score(X_train, y_train),\n",
    "                    'Test Score': grid_svc.score(X_test, y_test ),\n",
    "                    'AUC':linearsvc_auc})\n",
    "\n",
    "# SVM with Radial Kernal\n",
    "svmRadial = SVC(kernel = 'rbf')\n",
    "param_Radial_SVM = {'C': [0.001, 0.01, 0.1, 1, 10, 100],'gamma': [0.001, 0.01, 0.1, 1, 10, 100]}\n",
    "svmRadialGridSV  = GridSearchCV(svmRadial, param_grid = param_Radial_SVM, cv=5, n_jobs=2, scoring='roc_auc', return_train_score=True)\n",
    "svmRadialGridSV.fit(X_train, y_train)\n",
    "y_pred = svmRadialGridSV.predict(X_test)\n",
    "print('\\nSVM With Radial Kernel:')\n",
    "print('Training score: ', svmRadialGridSV.score(X_train, y_train))\n",
    "print('Test score: ', svmRadialGridSV.score(X_test, y_test))\n",
    "print(\"Accuracy Score:\", accuracy_score(y_test, y_pred))\n",
    "radialsvc_auc = svmRadialGridSV.best_score_\n",
    "print(\"AUC for Radial SVM: {:.3f}\".format(radialsvc_auc))\n",
    "print('Best Parameters:',svmRadialGridSV.best_params_)\n",
    "## Appending the results \n",
    "model_Scores.append({'Model Type' : 'Classification',\n",
    "                    'Model Name' : 'SVM Radial',\n",
    "                    'Parameters' : svmRadialGridSV.best_params_,\n",
    "                    'Training_score': svmRadialGridSV.score(X_train, y_train),\n",
    "                    'Test Score': svmRadialGridSV.score(X_test, y_test ),\n",
    "                    'AUC':radialsvc_auc})\n",
    "\n",
    "# Decision Tree\n",
    "tree = DecisionTreeClassifier(random_state=0)\n",
    "tree.fit(X_train, y_train)\n",
    "y_pred = tree.predict(X_test)\n",
    "print('\\nDecision Tree:')\n",
    "print('Training score: ',tree.score(X_train, y_train))\n",
    "print('Test score: ',tree.score(X_test, y_test))\n",
    "print(\"Accuracy Score:\", accuracy_score(y_test, y_pred))\n",
    "tree_auc = roc_auc_score(y_test, tree.predict_proba(X_test)[:,1])\n",
    "print(\"AUC for Decision Tree: {:.3f}\".format(tree_auc))\n",
    "\n",
    "# Tuning the Decision Tree to determine best parameters\n",
    "opt_tree = DecisionTreeClassifier(random_state = 0)\n",
    "param_DT = {\"max_depth\": range(1,10),\n",
    "           \"min_samples_split\": range(2,10,1),\n",
    "           \"max_leaf_nodes\": range(2,5)}\n",
    "grid_tree = GridSearchCV(opt_tree,param_DT,cv=5)\n",
    "grid_tree.fit(X_train,y_train)\n",
    "y_pred = grid_tree.predict(X_test)\n",
    "print('\\nDecision Tree with Best Parameters:')\n",
    "print('Training score: ', grid_tree.score(X_train, y_train))\n",
    "print('Test score: ', grid_tree.score(X_test, y_test))\n",
    "print(\"Accuracy Score:\", accuracy_score(y_test, y_pred))\n",
    "gridtree_auc = roc_auc_score(y_test, grid_tree.predict_proba(X_test)[:,1])\n",
    "print(\"AUC for Decision Tree: {:.3f}\".format(gridtree_auc))\n",
    "print('Best Parameters:',grid_tree.best_params_)\n",
    "## Appending the results \n",
    "model_Scores.append({'Model Type' : 'Classification',\n",
    "                    'Model Name' : 'Decision Tree',\n",
    "                    'Parameters' : grid_tree.best_params_,\n",
    "                    'Training_score': grid_tree.score(X_train, y_train),\n",
    "                    'Test Score': grid_tree.score(X_test, y_test ),\n",
    "                    'AUC':gridtree_auc})\n",
    "\n",
    "# Random Forest Model\n",
    "rnd_clf = RandomForestClassifier(max_leaf_nodes=4, max_depth=2, min_samples_split=2, random_state=0)\n",
    "rnd_clf.fit(X_train, y_train)\n",
    "y_pred = rnd_clf.predict(X_test)\n",
    "print('\\nRandom Forest Model:')\n",
    "print('Training score: ', rnd_clf.score(X_train, y_train))\n",
    "print('Test score: ', rnd_clf.score(X_test, y_test))\n",
    "print(\"Accuracy Score:\", accuracy_score(y_test, y_pred))\n",
    "rndclf_auc = roc_auc_score(y_test, rnd_clf.predict_proba(X_test)[:,1])\n",
    "print(\"AUC for Random Forest: {:.3f}\".format(rndclf_auc))\n",
    "## Appending the results \n",
    "model_Scores.append({'Model Type' : 'Classification',\n",
    "                    'Model Name' : 'Random Forest',\n",
    "                    'Parameters' : '-',\n",
    "                    'Training_score': rnd_clf.score(X_train, y_train),\n",
    "                    'Test Score': rnd_clf.score(X_test, y_test ),\n",
    "                    'AUC':rndclf_auc})"
   ]
  },
  {
   "cell_type": "code",
   "execution_count": 15,
   "metadata": {},
   "outputs": [
    {
     "data": {
      "text/html": [
       "<div>\n",
       "<style scoped>\n",
       "    .dataframe tbody tr th:only-of-type {\n",
       "        vertical-align: middle;\n",
       "    }\n",
       "\n",
       "    .dataframe tbody tr th {\n",
       "        vertical-align: top;\n",
       "    }\n",
       "\n",
       "    .dataframe thead th {\n",
       "        text-align: right;\n",
       "    }\n",
       "</style>\n",
       "<table border=\"1\" class=\"dataframe\">\n",
       "  <thead>\n",
       "    <tr style=\"text-align: right;\">\n",
       "      <th></th>\n",
       "      <th>Model Type</th>\n",
       "      <th>Parameters</th>\n",
       "      <th>Training_score</th>\n",
       "      <th>Test Score</th>\n",
       "      <th>AUC</th>\n",
       "    </tr>\n",
       "    <tr>\n",
       "      <th>Model Name</th>\n",
       "      <th></th>\n",
       "      <th></th>\n",
       "      <th></th>\n",
       "      <th></th>\n",
       "      <th></th>\n",
       "    </tr>\n",
       "  </thead>\n",
       "  <tbody>\n",
       "    <tr>\n",
       "      <td>Logistic Regression</td>\n",
       "      <td>Classification</td>\n",
       "      <td>-</td>\n",
       "      <td>0.718045</td>\n",
       "      <td>0.714286</td>\n",
       "      <td>0.800997</td>\n",
       "    </tr>\n",
       "    <tr>\n",
       "      <td>Linear SVM</td>\n",
       "      <td>Classification</td>\n",
       "      <td>{'C': 1}</td>\n",
       "      <td>0.704351</td>\n",
       "      <td>0.730131</td>\n",
       "      <td>0.783799</td>\n",
       "    </tr>\n",
       "    <tr>\n",
       "      <td>SVM Radial</td>\n",
       "      <td>Classification</td>\n",
       "      <td>{'C': 1, 'gamma': 0.01}</td>\n",
       "      <td>0.991966</td>\n",
       "      <td>0.891803</td>\n",
       "      <td>0.916445</td>\n",
       "    </tr>\n",
       "    <tr>\n",
       "      <td>Decision Tree</td>\n",
       "      <td>Classification</td>\n",
       "      <td>{'max_depth': 2, 'max_leaf_nodes': 4, 'min_sam...</td>\n",
       "      <td>0.769424</td>\n",
       "      <td>0.748120</td>\n",
       "      <td>0.800402</td>\n",
       "    </tr>\n",
       "    <tr>\n",
       "      <td>Random Forest</td>\n",
       "      <td>Classification</td>\n",
       "      <td>-</td>\n",
       "      <td>0.779449</td>\n",
       "      <td>0.763158</td>\n",
       "      <td>0.841245</td>\n",
       "    </tr>\n",
       "  </tbody>\n",
       "</table>\n",
       "</div>"
      ],
      "text/plain": [
       "                         Model Type  \\\n",
       "Model Name                            \n",
       "Logistic Regression  Classification   \n",
       "Linear SVM           Classification   \n",
       "SVM Radial           Classification   \n",
       "Decision Tree        Classification   \n",
       "Random Forest        Classification   \n",
       "\n",
       "                                                            Parameters  \\\n",
       "Model Name                                                               \n",
       "Logistic Regression                                                  -   \n",
       "Linear SVM                                                    {'C': 1}   \n",
       "SVM Radial                                     {'C': 1, 'gamma': 0.01}   \n",
       "Decision Tree        {'max_depth': 2, 'max_leaf_nodes': 4, 'min_sam...   \n",
       "Random Forest                                                        -   \n",
       "\n",
       "                     Training_score  Test Score       AUC  \n",
       "Model Name                                                 \n",
       "Logistic Regression        0.718045    0.714286  0.800997  \n",
       "Linear SVM                 0.704351    0.730131  0.783799  \n",
       "SVM Radial                 0.991966    0.891803  0.916445  \n",
       "Decision Tree              0.769424    0.748120  0.800402  \n",
       "Random Forest              0.779449    0.763158  0.841245  "
      ]
     },
     "execution_count": 15,
     "metadata": {},
     "output_type": "execute_result"
    }
   ],
   "source": [
    "modelResult = pd.DataFrame(model_Scores)\n",
    "modelResult.set_index('Model Name', inplace = True)\n",
    "modelResult"
   ]
  },
  {
   "cell_type": "markdown",
   "metadata": {},
   "source": [
    "# Model Performance"
   ]
  },
  {
   "cell_type": "markdown",
   "metadata": {},
   "source": [
    "The SVM Radial Model with C=1 and gamma = 0.01 is the best performing model based on the obtained AUC (0.91) score in addition to the better training and test scores."
   ]
  }
 ],
 "metadata": {
  "kernelspec": {
   "display_name": "Python 3",
   "language": "python",
   "name": "python3"
  },
  "language_info": {
   "codemirror_mode": {
    "name": "ipython",
    "version": 3
   },
   "file_extension": ".py",
   "mimetype": "text/x-python",
   "name": "python",
   "nbconvert_exporter": "python",
   "pygments_lexer": "ipython3",
   "version": "3.7.4"
  }
 },
 "nbformat": 4,
 "nbformat_minor": 2
}
